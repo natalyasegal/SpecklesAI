{
  "cells": [
    {
      "cell_type": "markdown",
      "metadata": {
        "id": "N6Mt4Sd_4hY4"
      },
      "source": []
    },
    {
      "cell_type": "markdown",
      "metadata": {
        "id": "ygFzdLAS1vuO"
      },
      "source": [
        "#Code"
      ]
    },
    {
      "cell_type": "markdown",
      "source": [
        "### Remove an old version if present"
      ],
      "metadata": {
        "id": "EUxv1KvYBROg"
      }
    },
    {
      "cell_type": "code",
      "source": [
        "!rm -r SpecklesAI"
      ],
      "metadata": {
        "id": "d1uXQCCyYJi7"
      },
      "execution_count": null,
      "outputs": []
    },
    {
      "cell_type": "markdown",
      "source": [
        "### Clone repository"
      ],
      "metadata": {
        "id": "eeoBxhqQBWgn"
      }
    },
    {
      "cell_type": "code",
      "source": [
        "!git clone https://github.com/natalyasegal/SpecklesAI.git"
      ],
      "metadata": {
        "id": "2HMjR5neV53P"
      },
      "execution_count": null,
      "outputs": []
    },
    {
      "cell_type": "markdown",
      "source": [
        "### Mount google drive"
      ],
      "metadata": {
        "id": "jrxiKoKDBnSa"
      }
    },
    {
      "cell_type": "code",
      "source": [
        "from google.colab import drive\n",
        "drive.mount('/content/gdrive')"
      ],
      "metadata": {
        "id": "0-DYgwWlGOyl",
        "outputId": "61be1bb5-433d-46f8-ef6d-e9386cf7ea0d",
        "colab": {
          "base_uri": "https://localhost:8080/"
        }
      },
      "execution_count": null,
      "outputs": [
        {
          "output_type": "stream",
          "name": "stdout",
          "text": [
            "Drive already mounted at /content/gdrive; to attempt to forcibly remount, call drive.mount(\"/content/gdrive\", force_remount=True).\n"
          ]
        }
      ]
    },
    {
      "cell_type": "markdown",
      "source": [
        "### Copy cofiguration files"
      ],
      "metadata": {
        "id": "pLR0KhtGBoxN"
      }
    },
    {
      "cell_type": "code",
      "source": [
        "#Please substitute Your_Path by an actual path to your configuration .yaml files\n",
        "!cp -r gdrive/MyDrive/Your_Path/config_files_p1/. SpecklesAI/config/config_files/."
      ],
      "metadata": {
        "id": "9fn1z6g1Ne7O"
      },
      "execution_count": null,
      "outputs": []
    },
    {
      "cell_type": "markdown",
      "source": [
        "### More"
      ],
      "metadata": {
        "id": "Bv2tj_ZePtPp"
      }
    },
    {
      "cell_type": "markdown",
      "source": [
        "####Copy aside"
      ],
      "metadata": {
        "id": "BaZ0p5S9Vh4m"
      }
    },
    {
      "cell_type": "code",
      "execution_count": null,
      "metadata": {
        "id": "AAVx0GD8V_4x"
      },
      "outputs": [],
      "source": [
        "!cp -r SpecklesAI \tgdrive/MyDrive/__MSc_2023/code_and_data/code/."
      ]
    },
    {
      "cell_type": "markdown",
      "source": [
        "####Copy back after adjusting"
      ],
      "metadata": {
        "id": "_rLaM42aVk3t"
      }
    },
    {
      "cell_type": "code",
      "source": [
        "!cp -r gdrive/MyDrive/__MSc_2023/code_and_data/code/SpecklesAI ."
      ],
      "metadata": {
        "id": "23C0Rw2yH3nB"
      },
      "execution_count": null,
      "outputs": []
    },
    {
      "cell_type": "markdown",
      "source": [
        "#Install requirements"
      ],
      "metadata": {
        "id": "6X4HeoOshRKj"
      }
    },
    {
      "cell_type": "code",
      "source": [
        "!pip install -r SpecklesAI/requirements.txt"
      ],
      "metadata": {
        "id": "BQkVvXfJSZ83",
        "outputId": "b4a78a54-df60-4df4-9981-b818c4e1ec1d",
        "colab": {
          "base_uri": "https://localhost:8080/"
        }
      },
      "execution_count": null,
      "outputs": [
        {
          "output_type": "stream",
          "name": "stdout",
          "text": [
            "Requirement already satisfied: plot_metric>=0.0.6 in /usr/local/lib/python3.10/dist-packages (from -r SpecklesAI/requirements.txt (line 1)) (0.0.6)\n",
            "Requirement already satisfied: pyyaml==6.0.1 in /usr/local/lib/python3.10/dist-packages (from -r SpecklesAI/requirements.txt (line 2)) (6.0.1)\n",
            "Requirement already satisfied: scipy>=1.1.0 in /usr/local/lib/python3.10/dist-packages (from plot_metric>=0.0.6->-r SpecklesAI/requirements.txt (line 1)) (1.11.4)\n",
            "Requirement already satisfied: matplotlib>=3.0.2 in /usr/local/lib/python3.10/dist-packages (from plot_metric>=0.0.6->-r SpecklesAI/requirements.txt (line 1)) (3.7.1)\n",
            "Requirement already satisfied: colorlover>=0.3.0 in /usr/local/lib/python3.10/dist-packages (from plot_metric>=0.0.6->-r SpecklesAI/requirements.txt (line 1)) (0.3.0)\n",
            "Requirement already satisfied: pandas>=0.23.4 in /usr/local/lib/python3.10/dist-packages (from plot_metric>=0.0.6->-r SpecklesAI/requirements.txt (line 1)) (2.0.3)\n",
            "Requirement already satisfied: seaborn>=0.9.0 in /usr/local/lib/python3.10/dist-packages (from plot_metric>=0.0.6->-r SpecklesAI/requirements.txt (line 1)) (0.13.1)\n",
            "Requirement already satisfied: numpy>=1.15.4 in /usr/local/lib/python3.10/dist-packages (from plot_metric>=0.0.6->-r SpecklesAI/requirements.txt (line 1)) (1.25.2)\n",
            "Requirement already satisfied: scikit-learn>=0.21.2 in /usr/local/lib/python3.10/dist-packages (from plot_metric>=0.0.6->-r SpecklesAI/requirements.txt (line 1)) (1.2.2)\n",
            "Requirement already satisfied: contourpy>=1.0.1 in /usr/local/lib/python3.10/dist-packages (from matplotlib>=3.0.2->plot_metric>=0.0.6->-r SpecklesAI/requirements.txt (line 1)) (1.2.1)\n",
            "Requirement already satisfied: cycler>=0.10 in /usr/local/lib/python3.10/dist-packages (from matplotlib>=3.0.2->plot_metric>=0.0.6->-r SpecklesAI/requirements.txt (line 1)) (0.12.1)\n",
            "Requirement already satisfied: fonttools>=4.22.0 in /usr/local/lib/python3.10/dist-packages (from matplotlib>=3.0.2->plot_metric>=0.0.6->-r SpecklesAI/requirements.txt (line 1)) (4.51.0)\n",
            "Requirement already satisfied: kiwisolver>=1.0.1 in /usr/local/lib/python3.10/dist-packages (from matplotlib>=3.0.2->plot_metric>=0.0.6->-r SpecklesAI/requirements.txt (line 1)) (1.4.5)\n",
            "Requirement already satisfied: packaging>=20.0 in /usr/local/lib/python3.10/dist-packages (from matplotlib>=3.0.2->plot_metric>=0.0.6->-r SpecklesAI/requirements.txt (line 1)) (24.0)\n",
            "Requirement already satisfied: pillow>=6.2.0 in /usr/local/lib/python3.10/dist-packages (from matplotlib>=3.0.2->plot_metric>=0.0.6->-r SpecklesAI/requirements.txt (line 1)) (9.4.0)\n",
            "Requirement already satisfied: pyparsing>=2.3.1 in /usr/local/lib/python3.10/dist-packages (from matplotlib>=3.0.2->plot_metric>=0.0.6->-r SpecklesAI/requirements.txt (line 1)) (3.1.2)\n",
            "Requirement already satisfied: python-dateutil>=2.7 in /usr/local/lib/python3.10/dist-packages (from matplotlib>=3.0.2->plot_metric>=0.0.6->-r SpecklesAI/requirements.txt (line 1)) (2.8.2)\n",
            "Requirement already satisfied: pytz>=2020.1 in /usr/local/lib/python3.10/dist-packages (from pandas>=0.23.4->plot_metric>=0.0.6->-r SpecklesAI/requirements.txt (line 1)) (2023.4)\n",
            "Requirement already satisfied: tzdata>=2022.1 in /usr/local/lib/python3.10/dist-packages (from pandas>=0.23.4->plot_metric>=0.0.6->-r SpecklesAI/requirements.txt (line 1)) (2024.1)\n",
            "Requirement already satisfied: joblib>=1.1.1 in /usr/local/lib/python3.10/dist-packages (from scikit-learn>=0.21.2->plot_metric>=0.0.6->-r SpecklesAI/requirements.txt (line 1)) (1.4.0)\n",
            "Requirement already satisfied: threadpoolctl>=2.0.0 in /usr/local/lib/python3.10/dist-packages (from scikit-learn>=0.21.2->plot_metric>=0.0.6->-r SpecklesAI/requirements.txt (line 1)) (3.5.0)\n",
            "Requirement already satisfied: six>=1.5 in /usr/local/lib/python3.10/dist-packages (from python-dateutil>=2.7->matplotlib>=3.0.2->plot_metric>=0.0.6->-r SpecklesAI/requirements.txt (line 1)) (1.16.0)\n"
          ]
        }
      ]
    },
    {
      "cell_type": "markdown",
      "source": [
        "#Dataset"
      ],
      "metadata": {
        "id": "uDDFkY-CCBHK"
      }
    },
    {
      "cell_type": "markdown",
      "source": [
        "###Remove old data"
      ],
      "metadata": {
        "id": "4tGY4_J6CsAe"
      }
    },
    {
      "cell_type": "markdown",
      "source": [
        "Run this only if you have created this directory before in the same runtime and need to recreate it differently"
      ],
      "metadata": {
        "id": "4E2wHHtyCzzV"
      }
    },
    {
      "cell_type": "code",
      "source": [
        "!rm -r exp3"
      ],
      "metadata": {
        "id": "nZOPa5kvCly-"
      },
      "execution_count": null,
      "outputs": []
    },
    {
      "cell_type": "markdown",
      "source": [
        "###Generalization case"
      ],
      "metadata": {
        "id": "dJJtkGlACX0H"
      }
    },
    {
      "cell_type": "markdown",
      "source": [
        "#### Unzip"
      ],
      "metadata": {
        "id": "MyV365ZaDJap"
      }
    },
    {
      "cell_type": "code",
      "source": [
        "#unzip here your dataset files"
      ],
      "metadata": {
        "id": "xFXOFZqzCClx"
      },
      "execution_count": null,
      "outputs": []
    },
    {
      "cell_type": "markdown",
      "source": [
        "#### Move"
      ],
      "metadata": {
        "id": "mxwPcGNnDSVr"
      }
    },
    {
      "cell_type": "code",
      "source": [
        "!mkdir exp3\n",
        "\n",
        "# move to the target data location inside exp3, if using another directory name, please adjust it in config.py\n",
        "\n",
        "!ls exp3/"
      ],
      "metadata": {
        "id": "b2LEBwDhDSfN"
      },
      "execution_count": null,
      "outputs": []
    },
    {
      "cell_type": "markdown",
      "metadata": {
        "id": "ZHmUKrStywfk"
      },
      "source": [
        "#Run"
      ]
    },
    {
      "cell_type": "code",
      "source": [
        "!python -u SpecklesAI/prep_and_train.py --batch_size 1000 --epochs 20 --num_of_chunks_to_aggregate 25"
      ],
      "metadata": {
        "id": "j6Mi6UgRWzuS"
      },
      "execution_count": null,
      "outputs": []
    },
    {
      "cell_type": "markdown",
      "source": [
        "#Save outcomes"
      ],
      "metadata": {
        "id": "pPi-Yd_qMMzg"
      }
    },
    {
      "cell_type": "code",
      "source": [
        "#Please copy the resulting models and figures to a permanent storage"
      ],
      "metadata": {
        "id": "8u-80_rEfQhd"
      },
      "execution_count": null,
      "outputs": []
    }
  ],
  "metadata": {
    "accelerator": "GPU",
    "colab": {
      "gpuType": "A100",
      "machine_shape": "hm",
      "provenance": [],
      "toc_visible": true
    },
    "kernelspec": {
      "display_name": "Python 3",
      "name": "python3"
    },
    "language_info": {
      "name": "python"
    }
  },
  "nbformat": 4,
  "nbformat_minor": 0
}